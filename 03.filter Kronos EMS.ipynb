{
 "cells": [
  {
   "cell_type": "markdown",
   "metadata": {},
   "source": [
    "# Produce the VCF file with the annotation of the RH regions \n",
    "\n",
    "This scripts takes the tables from ```02. RH score analysis``` and from ```01. SNP windows``` to produce a new VCF file with the mutation calls, if they are EMS or not and if they are in a RH region. \n",
    "\n",
    "## Inputs\n",
    "\n",
    "1. The table from the step ```01```\n",
    "2. The ```regions.csv.gz``` file from step ```02```.\n",
    "3. A file with the VCF header: \n",
    "\n",
    "```\n",
    "##fileformat=VCFv4.1\n",
    "##fileDate=20190708\n",
    "##source=JIC;CropGenetics;ricardo.ramirez-gonzalez@jic.ac.uk;cristobal.uauy@jic.ac.uk\n",
    "##reference=ftp://ftp.ensembl.org/pub/release-93/fasta/Triticum_aestivum/dna/\n",
    "##INFO=<ID=EMS-induced mutation,Number=0,Type=Flag,Description=\"EMS-induced mutations from sequenced TILLING populations. Seeds can be ordered from UK SeedStor or US Dubcovsky lab. Line identifier is variant name up to dot (e.g Kronos3128).\">\n",
    "##INFO=<ID=non EMS-induced mutation,Number=0,Type=Flag,Description=\"SNP found in the TILLING populations that are not ems\">\n",
    "##INFO=<ID=TSA,Number=1,Type=String,Description=\"Type of sequence alteration. Child of term sequence_alteration as defined by the sequence ontology project.\">\n",
    "##INFO=<ID=EMS-GT,Number=1,Type=String,Description=\"Genotype of EMS-induced mutations\">\n",
    "##INFO=<ID=RH,Number=0,Type=Flag,Description=\"SNP is in a region with residual heterogeneity.\">\n",
    "##INFO=<ID=DP,Number=1,Type=Integer,Description=\"Approximate read depth.\">\n",
    "##INFO=<ID=AO,Number=1,Type=Integer,Description=\"Approximate reference observations.\">\n",
    "##INFO=<ID=RO,Number=1,Type=Integer,Description=\"Approximate alternative allele observations.\">\n",
    "##INFO=<ID=MUT_QUAL,Number=1,Type=String,Description=\"Category of the mutation.\">\n",
    "##INFO=<ID=SNP_INDEX,Number=1,Type=Float,Description=\"SNP Index of the mutation.\">\n",
    "##INFO=<ID=EMS-line,Number=1,Type=String,Description=\"EMS line where the mutatation is located.\">\n",
    "#CHROM\tPOS\tID\tREF\tALT\tQUAL\tFILTER\tINFO\n",
    "```\n"
   ]
  },
  {
   "cell_type": "code",
   "execution_count": 1,
   "metadata": {},
   "outputs": [
    {
     "data": {
      "text/plain": [
       "true"
      ]
     },
     "execution_count": 1,
     "metadata": {},
     "output_type": "execute_result"
    }
   ],
   "source": [
    "require 'zlib' \n",
    "require 'csv'"
   ]
  },
  {
   "cell_type": "code",
   "execution_count": 2,
   "metadata": {},
   "outputs": [
    {
     "data": {
      "text/plain": [
       "true"
      ]
     },
     "execution_count": 2,
     "metadata": {},
     "output_type": "execute_result"
    }
   ],
   "source": [
    "require 'pp'"
   ]
  },
  {
   "cell_type": "code",
   "execution_count": 3,
   "metadata": {},
   "outputs": [
    {
     "data": {
      "text/plain": [
       "80303"
      ]
     },
     "execution_count": 3,
     "metadata": {},
     "output_type": "execute_result"
    }
   ],
   "source": [
    "def read_rh_regions(filename, window_size: \"gap_60\" ) \n",
    "    i=0\n",
    "    rh_regions = Hash.new {|h,k| h[k] = Array.new }\n",
    "    Zlib::GzipReader.open(filename) do |gzip|\n",
    "        csv = CSV.new(gzip, headers:true)\n",
    "        csv.each do |row|\n",
    "            next unless row[\"window_size\"] == window_size\n",
    "            rh_regions[row[\"region_id\"]] << row[\"LINE\"]\n",
    "        end\n",
    "        \n",
    "    end\n",
    "    rh_regions\n",
    "end\n",
    "rh_regions = read_rh_regions(\"./out/RH_Kronos_regions.csv.gz\")\n",
    "rh_regions.size"
   ]
  },
  {
   "cell_type": "code",
   "execution_count": 4,
   "metadata": {},
   "outputs": [
    {
     "data": {
      "text/plain": [
       "5042171"
      ]
     },
     "execution_count": 4,
     "metadata": {},
     "output_type": "execute_result"
    }
   ],
   "source": [
    "def write_annotated_vcf(snp_tables, rh_regions, out_vcf,header_vcf=\"./in/all_vcf_headers.txt\", filter_lines:[])\n",
    "    kept_snps = Set.new\n",
    "    out = Zlib::GzipWriter.open(out_vcf)\n",
    "    File.readlines(header_vcf).each{|line| out.puts line }\n",
    "    i = 0\n",
    "    qual   = \".\"\n",
    "    filter = \".\"\n",
    "    \n",
    "    current_region = \"0\"\n",
    "    current_region_lines = []\n",
    "    Zlib::GzipReader.open(snp_tables) do |gzip|\n",
    "        csv = CSV.new(gzip, headers:true, col_sep:\"\\t\")\n",
    "        csv.each do |row|\n",
    "            reg = row[\"region_id\"]\n",
    "            current_region_lines = rh_regions[reg] unless reg == current_region\n",
    "            current_region = reg\n",
    "            line = row[\"LINE\"]\n",
    "            ref=row[\"REF\"]\n",
    "            alt=row[\"ALT\"]\n",
    "            rh=\"\"\n",
    "            rh=\";RH\" if current_region_lines.include? line\n",
    "            tsa=\"NA\"\n",
    "            tsa=\"SNV\" if alt.size == ref.size\n",
    "            tsa=\"DEL\" if ref.size > alt.size\n",
    "            tsa=\"INS\" if ref.size < alt.size\n",
    "            next if filter_lines.include? line\n",
    "            info   = \"EMS-induced mutation;TSA=#{tsa};EMS-GT=#{row[\"EMS_GT\"]};EMS-line=#{line}\"\n",
    "            info_h = \"#{info};DP=#{row[\"DP\"]};RO=#{row[\"RO\"]};AO=#{row[\"AO\"]};SNP_INDEX=#{row[\"SNP_INDEX\"]};MUT_QUAL=#{row[\"MUT_QUAL\"]}#{rh}\"\n",
    "            out.puts [row[\"CHROM\"], row[\"POS\"],  row[\"ID\"],  ref,  alt, qual, filter, info_h].join(\"\\t\")\n",
    "            kept_snps << row[\"ID\"]\n",
    "        end\n",
    "        \n",
    "    end\n",
    "    \n",
    "    out.close\n",
    "    kept_snps\n",
    "end\n",
    "\n",
    "kept_snps = write_annotated_vcf(\"./out/20190709_Kronos_snps_with_density_and_het_gap_60.tsv.gz\", rh_regions, \"./out/20190723_Kronos_annotated.vcf.gz\")\n",
    "kept_snps.size"
   ]
  }
 ],
 "metadata": {
  "kernelspec": {
   "display_name": "Ruby 2.5.1",
   "language": "ruby",
   "name": "ruby"
  },
  "language_info": {
   "file_extension": ".rb",
   "mimetype": "application/x-ruby",
   "name": "ruby",
   "version": "2.5.1"
  }
 },
 "nbformat": 4,
 "nbformat_minor": 2
}
